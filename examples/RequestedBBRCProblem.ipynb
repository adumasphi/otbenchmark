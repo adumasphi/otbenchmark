{
 "cells": [
  {
   "cell_type": "markdown",
   "metadata": {},
   "source": [
    "# Test de la classe RequestedBBRCProblem\n",
    "\n",
    "L'objectif de cet exemple est de présenter l'utilisation de la classe RequestedBBRCProblem"
   ]
  },
  {
   "cell_type": "code",
   "execution_count": 1,
   "metadata": {},
   "outputs": [],
   "source": [
    "import openturns as ot\n",
    "import otbenchmark as otb"
   ]
  },
  {
   "cell_type": "code",
   "execution_count": 2,
   "metadata": {},
   "outputs": [
    {
     "output_type": "stream",
     "name": "stdout",
     "text": "RP8\n"
    }
   ],
   "source": [
    "problem = otb.RequestedBBRCProblem(\"testuser\", \"testpass\", -1, 1)\n",
    "print(problem.name)"
   ]
  },
  {
   "cell_type": "code",
   "execution_count": 3,
   "metadata": {},
   "outputs": [],
   "source": [
    "event = problem.getEvent()\n",
    "g = event.getFunction()"
   ]
  },
  {
   "cell_type": "code",
   "execution_count": 4,
   "metadata": {},
   "outputs": [
    {
     "output_type": "execute_result",
     "data": {
      "text/plain": "0.0007888456943755395"
     },
     "metadata": {},
     "execution_count": 4
    }
   ],
   "source": [
    "problem.getProbability()"
   ]
  },
  {
   "cell_type": "code",
   "execution_count": 5,
   "metadata": {},
   "outputs": [],
   "source": [
    "# Create the Monte-Carlo algorithm\n",
    "algoProb = ot.ProbabilitySimulationAlgorithm(event)\n",
    "algoProb.setMaximumOuterSampling(10)\n",
    "algoProb.setMaximumCoefficientOfVariation(0.01)\n",
    "algoProb.run()"
   ]
  }
 ],
 "metadata": {
  "kernelspec": {
   "display_name": "python3_cours",
   "language": "python",
   "name": "python3"
  },
  "language_info": {
   "codemirror_mode": {
    "name": "ipython",
    "version": 3
   },
   "file_extension": ".py",
   "mimetype": "text/x-python",
   "name": "python",
   "nbconvert_exporter": "python",
   "pygments_lexer": "ipython3",
   "version": "3.7.6-final"
  }
 },
 "nbformat": 4,
 "nbformat_minor": 2
}

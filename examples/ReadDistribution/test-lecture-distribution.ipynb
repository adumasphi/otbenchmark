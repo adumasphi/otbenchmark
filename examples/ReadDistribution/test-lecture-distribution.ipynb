{
 "cells": [
  {
   "cell_type": "markdown",
   "metadata": {},
   "source": [
    "## Read the distribution table with pandas"
   ]
  },
  {
   "cell_type": "code",
   "execution_count": 1,
   "metadata": {},
   "outputs": [],
   "source": [
    "import pandas as pd"
   ]
  },
  {
   "cell_type": "code",
   "execution_count": 2,
   "metadata": {},
   "outputs": [],
   "source": [
    "set_id = -1\n",
    "problem_id = 1"
   ]
  },
  {
   "cell_type": "code",
   "execution_count": 3,
   "metadata": {},
   "outputs": [],
   "source": [
    "bbrc_dist_table = pd.read_csv(\"probabilistic_models_up.csv\")\n",
    "my_dist_table = bbrc_dist_table[\n",
    "    (bbrc_dist_table[\"problem_id\"] == problem_id)\n",
    "    & (bbrc_dist_table[\"set_id\"] == set_id)\n",
    "]"
   ]
  },
  {
   "cell_type": "code",
   "execution_count": 4,
   "metadata": {},
   "outputs": [
    {
     "name": "stdout",
     "output_type": "stream",
     "text": [
      "('lognormal', 4.782516577355461, 0.0997513451195927, 120.0, 12.0)\n",
      "('lognormal', 4.782516577355461, 0.0997513451195927, 120.0, 12.0)\n",
      "('lognormal', 4.782516577355461, 0.0997513451195927, 120.0, 12.0)\n",
      "('lognormal', 4.782516577355461, 0.0997513451195927, 120.0, 12.0)\n",
      "('lognormal', 3.8924126488515056, 0.1980422004353651, 50.0, 10.0)\n",
      "('lognormal', 3.6692690975372964, 0.1980422004353651, 40.0, 8.0)\n"
     ]
    }
   ],
   "source": [
    "for raw_index in my_dist_table.index:\n",
    "    raw = my_dist_table.loc[raw_index]\n",
    "    parameters = (\n",
    "        raw[\"distribution_type\"],\n",
    "        raw[\"theta_1\"],\n",
    "        raw[\"theta_2\"],\n",
    "        raw[\"mean\"],\n",
    "        raw[\"std\"],\n",
    "    )\n",
    "    print(parameters)"
   ]
  },
  {
   "cell_type": "markdown",
   "metadata": {},
   "source": [
    "## Read de distribution table with numpy"
   ]
  },
  {
   "cell_type": "code",
   "execution_count": 5,
   "metadata": {},
   "outputs": [],
   "source": [
    "import numpy as np"
   ]
  },
  {
   "cell_type": "code",
   "execution_count": 6,
   "metadata": {},
   "outputs": [
    {
     "data": {
      "text/plain": [
       "array([[            nan,             nan,             nan,\n",
       "                    nan,             nan,             nan,\n",
       "                    nan,             nan,             nan,\n",
       "                    nan,             nan],\n",
       "       [-1.00000000e+00,  1.00000000e+00,  8.00000000e+00,\n",
       "         1.00000000e+00,             nan,  4.78251658e+00,\n",
       "         9.97513451e-02,             nan,             nan,\n",
       "         1.20000000e+02,  1.20000000e+01],\n",
       "       [-1.00000000e+00,  1.00000000e+00,  8.00000000e+00,\n",
       "         2.00000000e+00,             nan,  4.78251658e+00,\n",
       "         9.97513451e-02,             nan,             nan,\n",
       "         1.20000000e+02,  1.20000000e+01],\n",
       "       [-1.00000000e+00,  1.00000000e+00,  8.00000000e+00,\n",
       "         3.00000000e+00,             nan,  4.78251658e+00,\n",
       "         9.97513451e-02,             nan,             nan,\n",
       "         1.20000000e+02,  1.20000000e+01],\n",
       "       [-1.00000000e+00,  1.00000000e+00,  8.00000000e+00,\n",
       "         4.00000000e+00,             nan,  4.78251658e+00,\n",
       "         9.97513451e-02,             nan,             nan,\n",
       "         1.20000000e+02,  1.20000000e+01]])"
      ]
     },
     "execution_count": 6,
     "metadata": {},
     "output_type": "execute_result"
    }
   ],
   "source": [
    "data = np.genfromtxt(\"probabilistic_models_up.csv\", delimiter=\",\")\n",
    "data[:5, :]"
   ]
  },
  {
   "cell_type": "code",
   "execution_count": 7,
   "metadata": {},
   "outputs": [
    {
     "data": {
      "text/plain": [
       "480"
      ]
     },
     "execution_count": 7,
     "metadata": {},
     "output_type": "execute_result"
    }
   ],
   "source": [
    "numberOfRows = data.shape[0]\n",
    "numberOfRows"
   ]
  },
  {
   "cell_type": "code",
   "execution_count": 8,
   "metadata": {},
   "outputs": [],
   "source": [
    "column_setid = 0\n",
    "column_problemid = 1"
   ]
  },
  {
   "cell_type": "code",
   "execution_count": 9,
   "metadata": {},
   "outputs": [
    {
     "name": "stdout",
     "output_type": "stream",
     "text": [
      "1 [-1.00000000e+00  1.00000000e+00  8.00000000e+00  1.00000000e+00\n",
      "             nan  4.78251658e+00  9.97513451e-02             nan\n",
      "             nan  1.20000000e+02  1.20000000e+01]\n",
      "2 [-1.00000000e+00  1.00000000e+00  8.00000000e+00  2.00000000e+00\n",
      "             nan  4.78251658e+00  9.97513451e-02             nan\n",
      "             nan  1.20000000e+02  1.20000000e+01]\n",
      "3 [-1.00000000e+00  1.00000000e+00  8.00000000e+00  3.00000000e+00\n",
      "             nan  4.78251658e+00  9.97513451e-02             nan\n",
      "             nan  1.20000000e+02  1.20000000e+01]\n",
      "4 [-1.00000000e+00  1.00000000e+00  8.00000000e+00  4.00000000e+00\n",
      "             nan  4.78251658e+00  9.97513451e-02             nan\n",
      "             nan  1.20000000e+02  1.20000000e+01]\n",
      "5 [-1.          1.          8.          5.                 nan  3.89241265\n",
      "  0.1980422          nan         nan 50.         10.        ]\n",
      "6 [-1.         1.         8.         6.               nan  3.6692691\n",
      "  0.1980422        nan        nan 40.         8.       ]\n"
     ]
    }
   ],
   "source": [
    "index = 0\n",
    "for i in range(numberOfRows):\n",
    "    if data[i, column_setid] == set_id \\\n",
    "        and data[i, column_problemid] == problem_id:\n",
    "        index += 1\n",
    "        print(index, data[i, :])"
   ]
  },
  {
   "cell_type": "code",
   "execution_count": null,
   "metadata": {},
   "outputs": [],
   "source": []
  }
 ],
 "metadata": {
  "kernelspec": {
   "display_name": "Python 3",
   "language": "python",
   "name": "python3"
  },
  "language_info": {
   "codemirror_mode": {
    "name": "ipython",
    "version": 3
   },
   "file_extension": ".py",
   "mimetype": "text/x-python",
   "name": "python",
   "nbconvert_exporter": "python",
   "pygments_lexer": "ipython3",
   "version": "3.7.4"
  }
 },
 "nbformat": 4,
 "nbformat_minor": 2
}

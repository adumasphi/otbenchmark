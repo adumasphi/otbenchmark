{
 "cells": [
  {
   "cell_type": "markdown",
   "id": "fitted-recycling",
   "metadata": {},
   "source": [
    "# Print the sensitivity analysis problems\n",
    "\n",
    "In this example, we show how to print all the sensitivity analysis problems."
   ]
  },
  {
   "cell_type": "code",
   "execution_count": 1,
   "id": "institutional-flash",
   "metadata": {},
   "outputs": [],
   "source": [
    "import openturns as ot\n",
    "import numpy as np\n",
    "import otbenchmark as otb\n",
    "import pandas as pd"
   ]
  },
  {
   "cell_type": "markdown",
   "id": "a536936d",
   "metadata": {},
   "source": [
    "When we estimate Sobol' indices, we may encounter the following warning messages:\n",
    "```\n",
    "WRN - The estimated first order Sobol index (2) is greater than its total order index . You may increase the sampling size.\n",
    "WRN - The estimated total order Sobol index (2) is lesser than first order index . You may increase the sampling size.\n",
    "```\n",
    "Lots of these messages are printed in the current Notebook. This is why we disable them with:"
   ]
  },
  {
   "cell_type": "code",
   "execution_count": 2,
   "id": "fcadc06a",
   "metadata": {},
   "outputs": [],
   "source": [
    "ot.Log.Show(ot.Log.NONE)"
   ]
  },
  {
   "cell_type": "markdown",
   "id": "deadly-muslim",
   "metadata": {},
   "source": [
    "We import the list of problems."
   ]
  },
  {
   "cell_type": "code",
   "execution_count": 3,
   "id": "desirable-practice",
   "metadata": {},
   "outputs": [
    {
     "data": {
      "text/plain": [
       "11"
      ]
     },
     "execution_count": 3,
     "metadata": {},
     "output_type": "execute_result"
    }
   ],
   "source": [
    "benchmarkProblemList = otb.SensitivityBenchmarkProblemList()\n",
    "numberOfProblems = len(benchmarkProblemList)\n",
    "numberOfProblems"
   ]
  },
  {
   "cell_type": "markdown",
   "id": "integrated-specific",
   "metadata": {},
   "source": [
    "For each problem in the benchmark, print the problem name and the exact indices."
   ]
  },
  {
   "cell_type": "code",
   "execution_count": 4,
   "id": "brave-durham",
   "metadata": {
    "scrolled": true
   },
   "outputs": [
    {
     "name": "stdout",
     "output_type": "stream",
     "text": [
      "# 0 : GaussianSum  : S =  [0.5,0.5] T= [0.5,0.5] , dimension= 2\n",
      "# 1 : GaussianProduct  : S =  [0,0] T= [1,1] , dimension= 2\n",
      "# 2 : GSobol  : S =  [0.986712,0.00986712,9.86712e-05] T= [0.990034,0.0131566,0.000132] , dimension= 3\n",
      "# 3 : Ishigami  : S =  [0.313905,0.442411,0] T= [0.557589,0.442411,0.243684] , dimension= 3\n",
      "# 4 : Borehole  : S =  [0.66,0,0,0.09,0,0.09,0.09,0.02] T= [0.69,0,0,0.11,0,0.11,0.1,0.02] , dimension= 8\n",
      "# 5 : Dirichlet  : S =  [0.525547,0.233577,0.131387] T= [0.620438,0.310219,0.182482] , dimension= 3\n",
      "# 6 : Flooding  : S =  [0.38,0.13,0.25,0,0.19,0.02,0,0] T= [0.4,0.15,0.25,0.01,0.19,0.02,0,0] , dimension= 8\n",
      "# 7 : Morris  : S =  [0.08,0.08,0.06,0.08,0.06,0.13,0.06,0.13,0.13,0.12,0,0,0,0,0,0,0,0,0,0]#20 T= [0.11,0.11,0.06,0.11,0.06,0.13,0.06,0.13,0.13,0.12,0,0,0,0,0,0,0,0,0,0]#20 , dimension= 20\n",
      "# 8 : N.L. Oscillator  : S =  [0.4,0.03,0.09,0.18,0.12,0.05,0.05,0] T= [0.4,0.04,0.1,0.23,0.16,0.07,0.06,0.01] , dimension= 8\n",
      "# 9 : Borgonovo  : S =  [0.157895,0.157895,0.631579] T= [0.210526,0.210526,0.631579] , dimension= 3\n",
      "# 10 : Oakley-O'Hagan  : S =  [0,0,0,0,0,0.02,0.02,0.03,0.05,0.01,0.1,0.14,0.1,0.11,0.12]#15 T= [0.06,0.06,0.04,0.05,0.02,0.04,0.06,0.08,0.1,0.04,0.15,0.15,0.14,0.14,0.16]#15 , dimension= 15\n"
     ]
    }
   ],
   "source": [
    "for i in range(numberOfProblems):\n",
    "    problem = benchmarkProblemList[i]\n",
    "    name = problem.getName()\n",
    "    first_order_indices = problem.getFirstOrderIndices()\n",
    "    total_order_indices = problem.getTotalOrderIndices()\n",
    "    dimension = problem.getInputDistribution().getDimension()\n",
    "    print(\n",
    "        \"#\",\n",
    "        i,\n",
    "        \":\",\n",
    "        name,\n",
    "        \" : S = \",\n",
    "        first_order_indices,\n",
    "        \"T=\",\n",
    "        total_order_indices,\n",
    "        \", dimension=\",\n",
    "        dimension,\n",
    "    )"
   ]
  },
  {
   "cell_type": "code",
   "execution_count": 5,
   "id": "pointed-philippines",
   "metadata": {},
   "outputs": [
    {
     "data": {
      "text/html": [
       "<div>\n",
       "<style scoped>\n",
       "    .dataframe tbody tr th:only-of-type {\n",
       "        vertical-align: middle;\n",
       "    }\n",
       "\n",
       "    .dataframe tbody tr th {\n",
       "        vertical-align: top;\n",
       "    }\n",
       "\n",
       "    .dataframe thead th {\n",
       "        text-align: right;\n",
       "    }\n",
       "</style>\n",
       "<table border=\"1\" class=\"dataframe\">\n",
       "  <thead>\n",
       "    <tr style=\"text-align: right;\">\n",
       "      <th></th>\n",
       "      <th>$d$</th>\n",
       "    </tr>\n",
       "  </thead>\n",
       "  <tbody>\n",
       "    <tr>\n",
       "      <th>GaussianSum</th>\n",
       "      <td>2</td>\n",
       "    </tr>\n",
       "    <tr>\n",
       "      <th>GaussianProduct</th>\n",
       "      <td>2</td>\n",
       "    </tr>\n",
       "    <tr>\n",
       "      <th>GSobol</th>\n",
       "      <td>3</td>\n",
       "    </tr>\n",
       "    <tr>\n",
       "      <th>Ishigami</th>\n",
       "      <td>3</td>\n",
       "    </tr>\n",
       "    <tr>\n",
       "      <th>Borehole</th>\n",
       "      <td>8</td>\n",
       "    </tr>\n",
       "    <tr>\n",
       "      <th>Dirichlet</th>\n",
       "      <td>3</td>\n",
       "    </tr>\n",
       "    <tr>\n",
       "      <th>Flooding</th>\n",
       "      <td>8</td>\n",
       "    </tr>\n",
       "    <tr>\n",
       "      <th>Morris</th>\n",
       "      <td>20</td>\n",
       "    </tr>\n",
       "    <tr>\n",
       "      <th>N.L. Oscillator</th>\n",
       "      <td>8</td>\n",
       "    </tr>\n",
       "    <tr>\n",
       "      <th>Borgonovo</th>\n",
       "      <td>3</td>\n",
       "    </tr>\n",
       "    <tr>\n",
       "      <th>Oakley-O'Hagan</th>\n",
       "      <td>15</td>\n",
       "    </tr>\n",
       "  </tbody>\n",
       "</table>\n",
       "</div>"
      ],
      "text/plain": [
       "                $d$\n",
       "GaussianSum       2\n",
       "GaussianProduct   2\n",
       "GSobol            3\n",
       "Ishigami          3\n",
       "Borehole          8\n",
       "Dirichlet         3\n",
       "Flooding          8\n",
       "Morris           20\n",
       "N.L. Oscillator   8\n",
       "Borgonovo         3\n",
       "Oakley-O'Hagan   15"
      ]
     },
     "execution_count": 5,
     "metadata": {},
     "output_type": "execute_result"
    }
   ],
   "source": [
    "problem_names = [\n",
    "    benchmarkProblem.getName() for benchmarkProblem in benchmarkProblemList\n",
    "]\n",
    "columns = [\"$d$\"]\n",
    "df_problems_list = pd.DataFrame(index=problem_names, columns=columns)\n",
    "for problem in benchmarkProblemList:\n",
    "    name = problem.getName()\n",
    "    d = problem.getInputDistribution().getDimension()\n",
    "    df_problems_list.loc[name] = [int(d)]\n",
    "df_problems_list"
   ]
  },
  {
   "cell_type": "markdown",
   "id": "inappropriate-montgomery",
   "metadata": {},
   "source": [
    "## Use Borgonovo problem"
   ]
  },
  {
   "cell_type": "code",
   "execution_count": 6,
   "id": "historical-bacon",
   "metadata": {},
   "outputs": [],
   "source": [
    "problem = otb.BorgonovoSensitivity()\n",
    "distribution = problem.getInputDistribution()\n",
    "model = problem.getFunction()"
   ]
  },
  {
   "cell_type": "code",
   "execution_count": 7,
   "id": "tracked-alfred",
   "metadata": {},
   "outputs": [],
   "source": [
    "# Exact first and total order\n",
    "exact_first_order = problem.getFirstOrderIndices()\n",
    "exact_total_order = problem.getTotalOrderIndices()"
   ]
  },
  {
   "cell_type": "markdown",
   "id": "chronic-layout",
   "metadata": {},
   "source": [
    "## Saltelli estimator with Monte-Carlo sample"
   ]
  },
  {
   "cell_type": "code",
   "execution_count": 8,
   "id": "indoor-effectiveness",
   "metadata": {},
   "outputs": [],
   "source": [
    "sample_size = 10000"
   ]
  },
  {
   "cell_type": "code",
   "execution_count": 9,
   "id": "material-saturday",
   "metadata": {},
   "outputs": [],
   "source": [
    "inputDesign = ot.SobolIndicesExperiment(distribution, sample_size).generate()\n",
    "outputDesign = model(inputDesign)"
   ]
  },
  {
   "cell_type": "code",
   "execution_count": 10,
   "id": "positive-singles",
   "metadata": {},
   "outputs": [],
   "source": [
    "# Compute first order indices using the Saltelli estimator\n",
    "sensitivityAnalysis = ot.SaltelliSensitivityAlgorithm(\n",
    "    inputDesign, outputDesign, sample_size\n",
    ")\n",
    "computed_first_order = sensitivityAnalysis.getFirstOrderIndices()\n",
    "computed_total_order = sensitivityAnalysis.getTotalOrderIndices()"
   ]
  },
  {
   "cell_type": "code",
   "execution_count": 11,
   "id": "occasional-bullet",
   "metadata": {},
   "outputs": [
    {
     "name": "stdout",
     "output_type": "stream",
     "text": [
      "Sample size :  10000\n",
      "Computed first order =  [0.166136,0.157381,0.623798]\n",
      "Exact first order =  [0.157895,0.157895,0.631579]\n",
      "Computed total order =  [0.207054,0.2159,0.623765]\n",
      "Exact total order =  [0.210526,0.210526,0.631579]\n"
     ]
    }
   ],
   "source": [
    "# Compare with exact results\n",
    "print(\"Sample size : \", sample_size)\n",
    "# First order\n",
    "print(\"Computed first order = \", computed_first_order)\n",
    "print(\"Exact first order = \", exact_first_order)\n",
    "# Total order\n",
    "print(\"Computed total order = \", computed_total_order)\n",
    "print(\"Exact total order = \", exact_total_order)"
   ]
  },
  {
   "cell_type": "markdown",
   "id": "enclosed-silver",
   "metadata": {},
   "source": [
    "## Saltelli estimator with Quasi Monte-Carlo sample"
   ]
  },
  {
   "cell_type": "code",
   "execution_count": 12,
   "id": "color-singer",
   "metadata": {},
   "outputs": [],
   "source": [
    "sample_size = 500"
   ]
  },
  {
   "cell_type": "code",
   "execution_count": 13,
   "id": "governing-remove",
   "metadata": {},
   "outputs": [],
   "source": [
    "dimension = distribution.getDimension()\n",
    "sequence = ot.SobolSequence(dimension)\n",
    "restart = True\n",
    "experiment = ot.LowDiscrepancyExperiment(sequence, distribution, sample_size, restart)"
   ]
  },
  {
   "cell_type": "code",
   "execution_count": 14,
   "id": "acoustic-savings",
   "metadata": {},
   "outputs": [],
   "source": [
    "inputDesign = ot.SobolIndicesExperiment(experiment).generate()\n",
    "outputDesign = model(inputDesign)"
   ]
  },
  {
   "cell_type": "code",
   "execution_count": 15,
   "id": "focused-zambia",
   "metadata": {},
   "outputs": [],
   "source": [
    "# Compute first order indices using the Saltelli estimator\n",
    "sensitivityAnalysis = ot.SaltelliSensitivityAlgorithm(\n",
    "    inputDesign, outputDesign, sample_size\n",
    ")\n",
    "first_order = sensitivityAnalysis.getFirstOrderIndices()\n",
    "total_order = sensitivityAnalysis.getTotalOrderIndices()"
   ]
  },
  {
   "cell_type": "code",
   "execution_count": 16,
   "id": "frequent-hungarian",
   "metadata": {},
   "outputs": [
    {
     "name": "stdout",
     "output_type": "stream",
     "text": [
      "Sample size :  500\n",
      "Computed first order =  [0.166136,0.157381,0.623798]\n",
      "Exact first order =  [0.157895,0.157895,0.631579]\n",
      "Computed total order =  [0.207054,0.2159,0.623765]\n",
      "Exact total order =  [0.210526,0.210526,0.631579]\n"
     ]
    }
   ],
   "source": [
    "# Compare with exact results\n",
    "print(\"Sample size : \", sample_size)\n",
    "# First order\n",
    "print(\"Computed first order = \", computed_first_order)\n",
    "print(\"Exact first order = \", exact_first_order)\n",
    "# Total order\n",
    "print(\"Computed total order = \", computed_total_order)\n",
    "print(\"Exact total order = \", exact_total_order)"
   ]
  },
  {
   "cell_type": "markdown",
   "id": "cheap-mayor",
   "metadata": {},
   "source": [
    "## Loop over the estimators"
   ]
  },
  {
   "cell_type": "code",
   "execution_count": 17,
   "id": "strategic-airport",
   "metadata": {},
   "outputs": [
    {
     "name": "stdout",
     "output_type": "stream",
     "text": [
      "Available estimators:\n",
      " -  SaltelliSensitivityAlgorithm\n",
      " -  MartinezSensitivityAlgorithm\n",
      " -  JansenSensitivityAlgorithm\n",
      " -  MauntzKucherenkoSensitivityAlgorithm\n"
     ]
    }
   ],
   "source": [
    "print(\"Available estimators:\")\n",
    "estimators_list = otb.SensitivityBenchmarkMetaAlgorithm.GetEstimators()\n",
    "for sensitivityAnalysis in estimators_list:\n",
    "    name = sensitivityAnalysis.getClassName()\n",
    "    print(\" - \", name)"
   ]
  },
  {
   "cell_type": "code",
   "execution_count": 18,
   "id": "suburban-piece",
   "metadata": {},
   "outputs": [],
   "source": [
    "metaSAAlgorithm = otb.SensitivityBenchmarkMetaAlgorithm(problem)"
   ]
  },
  {
   "cell_type": "code",
   "execution_count": 19,
   "id": "involved-lemon",
   "metadata": {},
   "outputs": [
    {
     "name": "stdout",
     "output_type": "stream",
     "text": [
      "Monte-Carlo sampling\n",
      "SaltelliSensitivityAlgorithm\n",
      "    S =  [0.146135,0.139029,0.657612]\n",
      "    T =  [0.224719,0.240232,0.642326]\n",
      "MartinezSensitivityAlgorithm\n",
      "    S =  [0.152114,0.141551,0.635569]\n",
      "    T =  [0.23132,0.227414,0.60046]\n",
      "JansenSensitivityAlgorithm\n",
      "    S =  [0.280382,0.272058,0.630182]\n",
      "    T =  [0.19985,0.171691,0.516616]\n",
      "MauntzKucherenkoSensitivityAlgorithm\n",
      "    S =  [0.133358,0.172984,0.61181]\n",
      "    T =  [0.130804,0.19649,0.726534]\n"
     ]
    }
   ],
   "source": [
    "print(\"Monte-Carlo sampling\")\n",
    "for sensitivityAnalysis in estimators_list:\n",
    "    (\n",
    "        computed_first_order,\n",
    "        computed_total_order,\n",
    "    ) = metaSAAlgorithm.runMonteCarloSamplingEstimator(sensitivityAnalysis, sample_size)\n",
    "    name = sensitivityAnalysis.getClassName()\n",
    "    print(name)\n",
    "    print(\"    S = \", computed_first_order)\n",
    "    print(\"    T = \", computed_total_order)"
   ]
  },
  {
   "cell_type": "code",
   "execution_count": 20,
   "id": "known-element",
   "metadata": {},
   "outputs": [
    {
     "name": "stdout",
     "output_type": "stream",
     "text": [
      "Quasi Monte-Carlo sampling\n",
      "SaltelliSensitivityAlgorithm\n",
      "    S =  [0.144196,0.137184,0.648886]\n",
      "    T =  [0.221737,0.237044,0.633802]\n",
      "MartinezSensitivityAlgorithm\n",
      "    S =  [0.153256,0.142614,0.640339]\n",
      "    T =  [0.233056,0.22912,0.604967]\n",
      "JansenSensitivityAlgorithm\n",
      "    S =  [0.322505,0.31293,0.724855]\n",
      "    T =  [0.229874,0.197484,0.594228]\n",
      "MauntzKucherenkoSensitivityAlgorithm\n",
      "    S =  [0.12916,0.167538,0.59255]\n",
      "    T =  [0.126686,0.190305,0.703663]\n"
     ]
    }
   ],
   "source": [
    "print(\"Quasi Monte-Carlo sampling\")\n",
    "for sensitivityAnalysis in estimators_list:\n",
    "    (\n",
    "        computed_first_order,\n",
    "        computed_total_order,\n",
    "    ) = metaSAAlgorithm.runQuasiMonteCarloSamplingEstimator(\n",
    "        sensitivityAnalysis, sample_size\n",
    "    )\n",
    "    name = sensitivityAnalysis.getClassName()\n",
    "    print(name)\n",
    "    print(\"    S = \", computed_first_order)\n",
    "    print(\"    T = \", computed_total_order)"
   ]
  },
  {
   "cell_type": "code",
   "execution_count": 21,
   "id": "alone-might",
   "metadata": {},
   "outputs": [
    {
     "name": "stdout",
     "output_type": "stream",
     "text": [
      "Polynomial chaos\n",
      "    S =  [0.157895,0.157895,0.631579]\n",
      "    T =  [0.210526,0.210526,0.631579]\n"
     ]
    }
   ],
   "source": [
    "print(\"Polynomial chaos\")\n",
    "sample_size = 500\n",
    "(\n",
    "    computed_first_order,\n",
    "    computed_total_order,\n",
    ") = metaSAAlgorithm.runPolynomialChaosEstimator(\n",
    "    sample_size_train=sample_size,\n",
    "    sample_size_test=2,\n",
    "    total_degree=5,\n",
    "    hyperbolic_quasinorm=0.5,\n",
    ")\n",
    "print(\"    S = \", computed_first_order)\n",
    "print(\"    T = \", computed_total_order)"
   ]
  },
  {
   "cell_type": "markdown",
   "id": "arbitrary-rubber",
   "metadata": {},
   "source": [
    "## Define the metric\n",
    "\n",
    "We consider the following accuracy metrics:\n",
    "* the vector or log relative errors for a given index (first order or total order),\n",
    "* the mean log relative error, as the mean of the LRE vector (first order or total order),\n",
    "* the average mean log relative error, as the mean of the first and total order mean log relative error.\n",
    "\n",
    "Larger LRE values are prefered.\n",
    "\n",
    "The first order (resp. total order) mean LRE represents the mean number of digits for all components of the first order indices (resp. total order indices). The average mean LRE represents the mean LRE for both first and total order indices."
   ]
  },
  {
   "cell_type": "code",
   "execution_count": 22,
   "id": "limiting-retreat",
   "metadata": {},
   "outputs": [],
   "source": [
    "S_LRE = ot.Point(dimension)\n",
    "T_LRE = ot.Point(dimension)\n",
    "for i in range(dimension):\n",
    "    S_LRE[i] = otb.ComputeLogRelativeError(\n",
    "        computed_first_order[i], exact_first_order[i]\n",
    "    )\n",
    "    T_LRE[i] = otb.ComputeLogRelativeError(\n",
    "        computed_total_order[i], exact_total_order[i]\n",
    "    )"
   ]
  },
  {
   "cell_type": "code",
   "execution_count": 23,
   "id": "casual-robertson",
   "metadata": {},
   "outputs": [
    {
     "name": "stdout",
     "output_type": "stream",
     "text": [
      "LRE S =  [15.153,15.6536,15.454]\n",
      "LRE T =  [15.6536,15.2779,15.454]\n"
     ]
    }
   ],
   "source": [
    "print(\"LRE S = \", S_LRE)\n",
    "print(\"LRE T = \", T_LRE)"
   ]
  },
  {
   "cell_type": "code",
   "execution_count": 24,
   "id": "accompanied-connectivity",
   "metadata": {},
   "outputs": [
    {
     "name": "stdout",
     "output_type": "stream",
     "text": [
      "Mean LRE S = 15.42\n",
      "Mean LRE T = 15.46\n",
      "Mean LRE = 15.44\n"
     ]
    }
   ],
   "source": [
    "mean_LRE_S = sum(S_LRE) / dimension\n",
    "mean_LRE_T = sum(T_LRE) / dimension\n",
    "mean_LRE = (mean_LRE_S + mean_LRE_T) / 2.0\n",
    "print(\"Mean LRE S = %.2f\" % (mean_LRE_S))\n",
    "print(\"Mean LRE T = %.2f\" % (mean_LRE_T))\n",
    "print(\"Mean LRE = %.2f\" % (mean_LRE))"
   ]
  },
  {
   "cell_type": "markdown",
   "id": "sustainable-documentation",
   "metadata": {},
   "source": [
    "The digit per point ratio measure the number of digits relatively to the sample size. A greater value is prefered."
   ]
  },
  {
   "cell_type": "code",
   "execution_count": 25,
   "id": "suspended-auckland",
   "metadata": {},
   "outputs": [
    {
     "name": "stdout",
     "output_type": "stream",
     "text": [
      "Digit / point = 3.088e-02\n"
     ]
    }
   ],
   "source": [
    "digit_per_point_ratio = mean_LRE / sample_size\n",
    "print(\"Digit / point = %.3e\" % (digit_per_point_ratio))"
   ]
  },
  {
   "cell_type": "code",
   "execution_count": null,
   "id": "elect-breast",
   "metadata": {},
   "outputs": [],
   "source": []
  }
 ],
 "metadata": {
  "kernelspec": {
   "display_name": "Python 3 (ipykernel)",
   "language": "python",
   "name": "python3"
  },
  "language_info": {
   "codemirror_mode": {
    "name": "ipython",
    "version": 3
   },
   "file_extension": ".py",
   "mimetype": "text/x-python",
   "name": "python",
   "nbconvert_exporter": "python",
   "pygments_lexer": "ipython3",
   "version": "3.9.6"
  }
 },
 "nbformat": 4,
 "nbformat_minor": 5
}

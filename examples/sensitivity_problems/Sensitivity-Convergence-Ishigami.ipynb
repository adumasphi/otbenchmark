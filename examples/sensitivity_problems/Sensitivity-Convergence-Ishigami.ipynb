{
 "cells": [
  {
   "cell_type": "markdown",
   "id": "mexican-detector",
   "metadata": {},
   "source": [
    "# Convergence of estimators on Ishigami\n",
    "\n",
    "In this example, we present the convergence of the sensitivity indices of the Ishigami test function.\n",
    "\n",
    "We compare different estimators.\n",
    "* Sampling methods with different estimators: Saltelli, Mauntz-Kucherenko, Martinez, Jansen,\n",
    "* Sampling methods with different design of experiments: Monte-Carlo, LHS, Quasi-Monte-Carlo (TODO),\n",
    "* Polynomial chaos (TODO)."
   ]
  },
  {
   "cell_type": "code",
   "execution_count": 1,
   "id": "ranging-painting",
   "metadata": {},
   "outputs": [],
   "source": [
    "import openturns as ot\n",
    "import otbenchmark as otb\n",
    "import openturns.viewer as otv\n",
    "import time\n",
    "import numpy as np\n",
    "import pylab as pl"
   ]
  },
  {
   "cell_type": "markdown",
   "id": "8e904295",
   "metadata": {},
   "source": [
    "When we estimate Sobol' indices, we may encounter the following warning messages:\n",
    "```\n",
    "WRN - The estimated first order Sobol index (2) is greater than its total order index . You may increase the sampling size.\n",
    "WRN - The estimated total order Sobol index (2) is lesser than first order index . You may increase the sampling size.\n",
    "```\n",
    "Lots of these messages are printed in the current Notebook. This is why we disable them with:"
   ]
  },
  {
   "cell_type": "code",
   "execution_count": 2,
   "id": "6e733bbb",
   "metadata": {},
   "outputs": [],
   "source": [
    "ot.Log.Show(ot.Log.NONE)"
   ]
  },
  {
   "cell_type": "code",
   "execution_count": 3,
   "id": "pharmaceutical-syria",
   "metadata": {},
   "outputs": [
    {
     "data": {
      "text/plain": [
       "<otbenchmark.IshigamiSensitivity.IshigamiSensitivity at 0x7f9a3ef423a0>"
      ]
     },
     "execution_count": 3,
     "metadata": {},
     "output_type": "execute_result"
    }
   ],
   "source": [
    "problem = otb.IshigamiSensitivity()\n",
    "problem"
   ]
  },
  {
   "cell_type": "code",
   "execution_count": 4,
   "id": "standing-bulgarian",
   "metadata": {},
   "outputs": [
    {
     "name": "stdout",
     "output_type": "stream",
     "text": [
      "name = Ishigami\n",
      "distribution = ComposedDistribution(Uniform(a = -3.14159, b = 3.14159), Uniform(a = -3.14159, b = 3.14159), Uniform(a = -3.14159, b = 3.14159), IndependentCopula(dimension = 3))\n",
      "function = ParametricEvaluation([X1,X2,X3,a,b]->[sin(X1) + a * sin(X2)^2 + b * X3^4 * sin(X1)], parameters positions=[3,4], parameters=[a : 7, b : 0.1], input positions=[0,1,2])\n",
      "firstOrderIndices = [0.313905,0.442411,0]\n",
      "totalOrderIndices = [0.557589,0.442411,0.243684]\n"
     ]
    }
   ],
   "source": [
    "print(problem)"
   ]
  },
  {
   "cell_type": "code",
   "execution_count": 5,
   "id": "tough-weapon",
   "metadata": {},
   "outputs": [],
   "source": [
    "distribution = problem.getInputDistribution()\n",
    "model = problem.getFunction()"
   ]
  },
  {
   "cell_type": "code",
   "execution_count": 6,
   "id": "demonstrated-asbestos",
   "metadata": {},
   "outputs": [
    {
     "data": {
      "text/html": [
       "<p>[0.313905,0.442411,0]</p>"
      ],
      "text/plain": [
       "class=Point name=Unnamed dimension=3 values=[0.313905,0.442411,0]"
      ]
     },
     "execution_count": 6,
     "metadata": {},
     "output_type": "execute_result"
    }
   ],
   "source": [
    "# Exact first and total order\n",
    "exact_first_order = problem.getFirstOrderIndices()\n",
    "exact_first_order"
   ]
  },
  {
   "cell_type": "code",
   "execution_count": 7,
   "id": "accredited-grain",
   "metadata": {},
   "outputs": [
    {
     "data": {
      "text/html": [
       "<p>[0.557589,0.442411,0.243684]</p>"
      ],
      "text/plain": [
       "class=Point name=Unnamed dimension=3 values=[0.557589,0.442411,0.243684]"
      ]
     },
     "execution_count": 7,
     "metadata": {},
     "output_type": "execute_result"
    }
   ],
   "source": [
    "exact_total_order = problem.getTotalOrderIndices()\n",
    "exact_total_order"
   ]
  },
  {
   "cell_type": "markdown",
   "id": "forced-fishing",
   "metadata": {},
   "source": [
    "## Perform sensitivity analysis"
   ]
  },
  {
   "cell_type": "code",
   "execution_count": 8,
   "id": "disturbed-encounter",
   "metadata": {},
   "outputs": [],
   "source": [
    "# Create X/Y data\n",
    "ot.RandomGenerator.SetSeed(0)\n",
    "size = 10000\n",
    "inputDesign = ot.SobolIndicesExperiment(distribution, size).generate()\n",
    "outputDesign = model(inputDesign)"
   ]
  },
  {
   "cell_type": "code",
   "execution_count": 9,
   "id": "physical-bottom",
   "metadata": {},
   "outputs": [],
   "source": [
    "# Compute first order indices using the Saltelli estimator\n",
    "sensitivityAnalysis = ot.SaltelliSensitivityAlgorithm(inputDesign, outputDesign, size)\n",
    "computed_first_order = sensitivityAnalysis.getFirstOrderIndices()\n",
    "computed_total_order = sensitivityAnalysis.getTotalOrderIndices()"
   ]
  },
  {
   "cell_type": "code",
   "execution_count": 10,
   "id": "executive-panic",
   "metadata": {},
   "outputs": [
    {
     "name": "stdout",
     "output_type": "stream",
     "text": [
      "Sample size :  10000\n",
      "Computed first order =  [0.302745,0.460846,0.0066916]\n",
      "Exact first order    =  [0.313905,0.442411,0]\n",
      "Computed total order =  [0.574996,0.427126,0.256689]\n",
      "Exact total order    =  [0.557589,0.442411,0.243684]\n"
     ]
    }
   ],
   "source": [
    "# Compare with exact results\n",
    "print(\"Sample size : \", size)\n",
    "# First order\n",
    "# Compute absolute error (the LRE cannot be computed,\n",
    "# because S can be zero)\n",
    "print(\"Computed first order = \", computed_first_order)\n",
    "print(\"Exact first order    = \", exact_first_order)\n",
    "# Total order\n",
    "print(\"Computed total order = \", computed_total_order)\n",
    "print(\"Exact total order    = \", exact_total_order)"
   ]
  },
  {
   "cell_type": "code",
   "execution_count": 11,
   "id": "english-galaxy",
   "metadata": {},
   "outputs": [],
   "source": [
    "dimension = distribution.getDimension()"
   ]
  },
  {
   "cell_type": "markdown",
   "id": "ee1cc1bb",
   "metadata": {},
   "source": [
    "Compute componentwise absolute error."
   ]
  },
  {
   "cell_type": "code",
   "execution_count": 12,
   "id": "formed-express",
   "metadata": {},
   "outputs": [],
   "source": [
    "first_order_AE = ot.Point(np.abs(exact_first_order - computed_first_order))\n",
    "total_order_AE = ot.Point(np.abs(exact_total_order - computed_total_order))"
   ]
  },
  {
   "cell_type": "code",
   "execution_count": 13,
   "id": "british-dependence",
   "metadata": {},
   "outputs": [
    {
     "name": "stdout",
     "output_type": "stream",
     "text": [
      "Absolute error\n",
      "AE(S0) = 0.0112, AE(T0) = 0.0174\n",
      "AE(S1) = 0.0184, AE(T1) = 0.0153\n",
      "AE(S2) = 0.0067, AE(T2) = 0.0130\n"
     ]
    }
   ],
   "source": [
    "print(\"Absolute error\")\n",
    "for i in range(dimension):\n",
    "    print(\n",
    "        \"AE(S%d) = %.4f, AE(T%d) = %.4f\" % (i, first_order_AE[i], i, total_order_AE[i])\n",
    "    )"
   ]
  },
  {
   "cell_type": "code",
   "execution_count": null,
   "id": "c51a749e",
   "metadata": {},
   "outputs": [
    {
     "name": "stdout",
     "output_type": "stream",
     "text": [
      "Estimator: Saltelli\n",
      "Estimator: Martinez\n",
      "Estimator: Jansen\n"
     ]
    }
   ],
   "source": [
    "metaSAAlgorithm = otb.SensitivityBenchmarkMetaAlgorithm(problem)\n",
    "for estimator in [\"Saltelli\", \"Martinez\", \"Jansen\", \"MauntzKucherenko\"]:\n",
    "    print(\"Estimator:\", estimator)\n",
    "    benchmark = otb.SensitivityConvergenceBenchmark(\n",
    "        problem,\n",
    "        metaSAAlgorithm,\n",
    "        numberOfRepetitions=4,\n",
    "        maximum_elapsed_time=2.0,\n",
    "        sample_size_initial=20,\n",
    "        estimator=estimator,\n",
    "    )\n",
    "    grid = benchmark.plotConvergenceGrid(verbose=False)\n",
    "    view = otv.View(grid)\n",
    "    figure = view.getFigure()\n",
    "    _ = figure.suptitle(\"%s, %s\" % (problem.getName(), estimator))\n",
    "    figure.set_figwidth(10.0)\n",
    "    figure.set_figheight(5.0)\n",
    "    figure.subplots_adjust(wspace=0.4, hspace=0.4)"
   ]
  },
  {
   "cell_type": "code",
   "execution_count": null,
   "id": "746dc326",
   "metadata": {},
   "outputs": [],
   "source": [
    "benchmark = otb.SensitivityConvergenceBenchmark(\n",
    "    problem,\n",
    "    metaSAAlgorithm,\n",
    "    numberOfRepetitions=4,\n",
    "    maximum_elapsed_time=2.0,\n",
    "    sample_size_initial=20,\n",
    "    estimator=\"Saltelli\",\n",
    "    sampling_method=\"MonteCarlo\",\n",
    ")\n",
    "benchmark.plotConvergenceCurve()"
   ]
  },
  {
   "cell_type": "code",
   "execution_count": null,
   "id": "0dd47eca",
   "metadata": {},
   "outputs": [],
   "source": [
    "grid = ot.GridLayout(1, 3)\n",
    "maximum_absolute_error = 1.0\n",
    "minimum_absolute_error = 1.0e-5\n",
    "sampling_method_list = [\"MonteCarlo\", \"LHS\", \"QMC\"]\n",
    "for sampling_method_index in range(3):\n",
    "    sampling_method = sampling_method_list[sampling_method_index]\n",
    "    benchmark = otb.SensitivityConvergenceBenchmark(\n",
    "        problem,\n",
    "        metaSAAlgorithm,\n",
    "        numberOfRepetitions=4,\n",
    "        maximum_elapsed_time=2.0,\n",
    "        sample_size_initial=20,\n",
    "        estimator=\"Saltelli\",\n",
    "        sampling_method=sampling_method,\n",
    "    )\n",
    "    graph = benchmark.plotConvergenceCurve()\n",
    "    # Change bounding box\n",
    "    box = graph.getBoundingBox()\n",
    "    bound = box.getLowerBound()\n",
    "    bound[1] = minimum_absolute_error\n",
    "    box.setLowerBound(bound)\n",
    "    bound = box.getUpperBound()\n",
    "    bound[1] = maximum_absolute_error\n",
    "    box.setUpperBound(bound)\n",
    "    graph.setBoundingBox(box)\n",
    "    title = graph.getTitle()\n",
    "    title += \", \" + sampling_method\n",
    "    graph.setTitle(title)\n",
    "    grid.setGraph(0, sampling_method_index, graph)\n",
    "grid"
   ]
  },
  {
   "cell_type": "code",
   "execution_count": null,
   "id": "fcb1220f",
   "metadata": {},
   "outputs": [],
   "source": []
  }
 ],
 "metadata": {
  "kernelspec": {
   "display_name": "Python 3 (ipykernel)",
   "language": "python",
   "name": "python3"
  },
  "language_info": {
   "codemirror_mode": {
    "name": "ipython",
    "version": 3
   },
   "file_extension": ".py",
   "mimetype": "text/x-python",
   "name": "python",
   "nbconvert_exporter": "python",
   "pygments_lexer": "ipython3",
   "version": "3.9.6"
  }
 },
 "nbformat": 4,
 "nbformat_minor": 5
}

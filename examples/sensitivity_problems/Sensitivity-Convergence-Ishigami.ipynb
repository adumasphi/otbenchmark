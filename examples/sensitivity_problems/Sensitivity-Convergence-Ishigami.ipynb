{
 "cells": [
  {
   "cell_type": "markdown",
   "id": "mexican-detector",
   "metadata": {},
   "source": [
    "# Convergence of estimators on Ishigami\n",
    "\n",
    "In this example, we present the convergence of the sensitivity indices of the Ishigami test function.\n",
    "\n",
    "We compare different estimators.\n",
    "* Sampling methods with different estimators: Saltelli, Mauntz-Kucherenko (TODO), Martinez (TODO), Jansen (TODO),\n",
    "* Sampling methods with different design of experiments: Monte-Carlo, LHS, Quasi-Monte-Carlo (TODO),\n",
    "* Polynomial chaos (TODO)."
   ]
  },
  {
   "cell_type": "code",
   "execution_count": 1,
   "id": "ranging-painting",
   "metadata": {},
   "outputs": [],
   "source": [
    "import openturns as ot\n",
    "import otbenchmark as otb\n",
    "import openturns.viewer as otv\n",
    "import time\n",
    "import numpy as np"
   ]
  },
  {
   "cell_type": "code",
   "execution_count": 2,
   "id": "pharmaceutical-syria",
   "metadata": {},
   "outputs": [],
   "source": [
    "problem = otb.IshigamiSensitivity()"
   ]
  },
  {
   "cell_type": "code",
   "execution_count": 3,
   "id": "standing-bulgarian",
   "metadata": {},
   "outputs": [
    {
     "name": "stdout",
     "output_type": "stream",
     "text": [
      "name = Ishigami\n",
      "distribution = ComposedDistribution(Uniform(a = -3.14159, b = 3.14159), Uniform(a = -3.14159, b = 3.14159), Uniform(a = -3.14159, b = 3.14159), IndependentCopula(dimension = 3))\n",
      "function = ParametricEvaluation([X1,X2,X3,a,b]->[sin(X1) + a * sin(X2)^2 + b * X3^4 * sin(X1)], parameters positions=[3,4], parameters=[a : 7, b : 0.1], input positions=[0,1,2])\n",
      "firstOrderIndices = [0.313905,0.442411,0]\n",
      "totalOrderIndices = [0.557589,0.442411,0.243684]\n"
     ]
    }
   ],
   "source": [
    "print(problem)"
   ]
  },
  {
   "cell_type": "code",
   "execution_count": 4,
   "id": "tough-weapon",
   "metadata": {},
   "outputs": [],
   "source": [
    "distribution = problem.getInputDistribution()\n",
    "model = problem.getFunction()"
   ]
  },
  {
   "cell_type": "code",
   "execution_count": 5,
   "id": "demonstrated-asbestos",
   "metadata": {},
   "outputs": [
    {
     "data": {
      "text/html": [
       "<p>[0.313905,0.442411,0]</p>"
      ],
      "text/plain": [
       "class=Point name=Unnamed dimension=3 values=[0.313905,0.442411,0]"
      ]
     },
     "execution_count": 5,
     "metadata": {},
     "output_type": "execute_result"
    }
   ],
   "source": [
    "# Exact first and total order\n",
    "exact_first_order = problem.getFirstOrderIndices()\n",
    "exact_first_order"
   ]
  },
  {
   "cell_type": "code",
   "execution_count": 6,
   "id": "accredited-grain",
   "metadata": {},
   "outputs": [
    {
     "data": {
      "text/html": [
       "<p>[0.557589,0.442411,0.243684]</p>"
      ],
      "text/plain": [
       "class=Point name=Unnamed dimension=3 values=[0.557589,0.442411,0.243684]"
      ]
     },
     "execution_count": 6,
     "metadata": {},
     "output_type": "execute_result"
    }
   ],
   "source": [
    "exact_total_order = problem.getTotalOrderIndices()\n",
    "exact_total_order"
   ]
  },
  {
   "cell_type": "markdown",
   "id": "forced-fishing",
   "metadata": {},
   "source": [
    "## Perform sensitivity analysis"
   ]
  },
  {
   "cell_type": "code",
   "execution_count": 7,
   "id": "disturbed-encounter",
   "metadata": {},
   "outputs": [],
   "source": [
    "# Create X/Y data\n",
    "ot.RandomGenerator.SetSeed(0)\n",
    "size = 10000\n",
    "inputDesign = ot.SobolIndicesExperiment(distribution, size).generate()\n",
    "outputDesign = model(inputDesign)"
   ]
  },
  {
   "cell_type": "code",
   "execution_count": 8,
   "id": "physical-bottom",
   "metadata": {},
   "outputs": [],
   "source": [
    "# Compute first order indices using the Saltelli estimator\n",
    "sensitivityAnalysis = ot.SaltelliSensitivityAlgorithm(inputDesign, outputDesign, size)\n",
    "computed_first_order = sensitivityAnalysis.getFirstOrderIndices()\n",
    "computed_total_order = sensitivityAnalysis.getTotalOrderIndices()"
   ]
  },
  {
   "cell_type": "code",
   "execution_count": 9,
   "id": "executive-panic",
   "metadata": {},
   "outputs": [
    {
     "name": "stdout",
     "output_type": "stream",
     "text": [
      "Sample size :  10000\n",
      "Computed first order =  [0.302745,0.460846,0.0066916]\n",
      "Exact first order    =  [0.313905,0.442411,0]\n",
      "Computed total order =  [0.574996,0.427126,0.256689]\n",
      "Exact total order    =  [0.557589,0.442411,0.243684]\n"
     ]
    }
   ],
   "source": [
    "# Compare with exact results\n",
    "print(\"Sample size : \", size)\n",
    "# First order\n",
    "# Compute absolute error (the LRE cannot be computed,\n",
    "# because S can be zero)\n",
    "print(\"Computed first order = \", computed_first_order)\n",
    "print(\"Exact first order    = \", exact_first_order)\n",
    "# Total order\n",
    "print(\"Computed total order = \", computed_total_order)\n",
    "print(\"Exact total order    = \", exact_total_order)"
   ]
  },
  {
   "cell_type": "code",
   "execution_count": 10,
   "id": "english-galaxy",
   "metadata": {},
   "outputs": [],
   "source": [
    "dimension = distribution.getDimension()"
   ]
  },
  {
   "cell_type": "code",
   "execution_count": 11,
   "id": "formed-express",
   "metadata": {},
   "outputs": [],
   "source": [
    "first_order_LRE = ot.Point(dimension)\n",
    "total_order_LRE = ot.Point(dimension)\n",
    "for i in range(dimension):\n",
    "    first_order_LRE[i] = otb.ComputeLogRelativeError(\n",
    "        exact_first_order[i], computed_first_order[i]\n",
    "    )\n",
    "    total_order_LRE[i] = otb.ComputeLogRelativeError(\n",
    "        exact_total_order[i], computed_total_order[i]\n",
    "    )"
   ]
  },
  {
   "cell_type": "code",
   "execution_count": 12,
   "id": "british-dependence",
   "metadata": {},
   "outputs": [
    {
     "name": "stdout",
     "output_type": "stream",
     "text": [
      "LRE(S0) = 1.45, LRE(T0) = 1.51\n",
      "LRE(S1) = 1.38, LRE(T1) = 1.46\n",
      "LRE(S2) = 0.00, LRE(T2) = 1.27\n"
     ]
    }
   ],
   "source": [
    "for i in range(dimension):\n",
    "    print(\n",
    "        \"LRE(S%d) = %.2f, LRE(T%d) = %.2f\"\n",
    "        % (i, first_order_LRE[i], i, total_order_LRE[i])\n",
    "    )"
   ]
  },
  {
   "cell_type": "code",
   "execution_count": 13,
   "id": "legislative-partition",
   "metadata": {},
   "outputs": [],
   "source": [
    "def compute_LRE_by_MonteCarlo_sampling(problem, sample_size):\n",
    "    \"\"\"\n",
    "    Compute the LRE for the given problem with Monte-Carlo sample.\n",
    "    \n",
    "    Uses Saltelli.\n",
    "    \"\"\"\n",
    "    distribution = problem.getInputDistribution()\n",
    "    model = problem.getFunction()\n",
    "    # Create X/Y data\n",
    "    inputDesign = ot.SobolIndicesExperiment(distribution, sample_size).generate()\n",
    "    outputDesign = model(inputDesign)\n",
    "    # Compute first order indices using the Saltelli estimator\n",
    "    sensitivityAnalysis = ot.SaltelliSensitivityAlgorithm(\n",
    "        inputDesign, outputDesign, sample_size\n",
    "    )\n",
    "    computed_first_order = sensitivityAnalysis.getFirstOrderIndices()\n",
    "    computed_total_order = sensitivityAnalysis.getTotalOrderIndices()\n",
    "    dimension = distribution.getDimension()\n",
    "    first_order_LRE = ot.Point(dimension)\n",
    "    total_order_LRE = ot.Point(dimension)\n",
    "    for i in range(dimension):\n",
    "        first_order_LRE[i] = otb.ComputeLogRelativeError(\n",
    "            exact_first_order[i], computed_first_order[i]\n",
    "        )\n",
    "        total_order_LRE[i] = otb.ComputeLogRelativeError(\n",
    "            exact_total_order[i], computed_total_order[i]\n",
    "        )\n",
    "    return first_order_LRE, total_order_LRE"
   ]
  },
  {
   "cell_type": "code",
   "execution_count": 14,
   "id": "limited-smile",
   "metadata": {},
   "outputs": [],
   "source": [
    "startTime = time.time()"
   ]
  },
  {
   "cell_type": "code",
   "execution_count": 15,
   "id": "automated-edwards",
   "metadata": {},
   "outputs": [],
   "source": [
    "numberOfPoints = 12  # Number of atomic experiments\n",
    "numberOfRepetitions = 10  # Number of repetitions of each experiment\n",
    "sampleSizeLRETable = ot.Sample(numberOfPoints * numberOfRepetitions, 2)\n",
    "sampleSizeLRETable.setDescription([\"Sample size\", \"LRE\"])"
   ]
  },
  {
   "cell_type": "code",
   "execution_count": 16,
   "id": "emerging-quarterly",
   "metadata": {},
   "outputs": [
    {
     "name": "stdout",
     "output_type": "stream",
     "text": [
      "Sample size =  40\n",
      "Sample size =  80\n",
      "Sample size =  160\n",
      "Sample size =  320\n",
      "Sample size =  640\n",
      "Sample size =  1280\n",
      "Sample size =  2560\n",
      "Sample size =  5120\n",
      "Sample size =  10240\n",
      "Sample size =  20480\n",
      "Sample size =  40960\n",
      "Sample size =  81920\n"
     ]
    }
   ],
   "source": [
    "sample_size_initial = 20\n",
    "sample_size = sample_size_initial\n",
    "marginal_index = 0\n",
    "first_order = True\n",
    "index = 0\n",
    "for i in range(numberOfPoints):\n",
    "    sample_size *= 2\n",
    "    print(\"Sample size = \", sample_size)\n",
    "    for j in range(numberOfRepetitions):\n",
    "        first_order_LRE, total_order_LRE = compute_LRE_by_MonteCarlo_sampling(\n",
    "            problem, sample_size\n",
    "        )\n",
    "        sampleSizeLRETable[index, 0] = sample_size\n",
    "        if first_order:\n",
    "            sampleSizeLRETable[index, 1] = first_order_LRE[marginal_index]\n",
    "        else:\n",
    "            sampleSizeLRETable[index, 1] = total_order_LRE[marginal_index]\n",
    "        index += 1\n",
    "sample_size_final = sample_size"
   ]
  },
  {
   "cell_type": "code",
   "execution_count": 17,
   "id": "compliant-republic",
   "metadata": {},
   "outputs": [
    {
     "name": "stdout",
     "output_type": "stream",
     "text": [
      "Elapsed = 2.47 (s)\n"
     ]
    }
   ],
   "source": [
    "elapsedTime = time.time() - startTime\n",
    "print(\"Elapsed = %.2f (s)\" % (elapsedTime))"
   ]
  },
  {
   "cell_type": "code",
   "execution_count": 18,
   "id": "nuclear-grave",
   "metadata": {},
   "outputs": [],
   "source": [
    "sampleSizeArray = [\n",
    "    int(n)\n",
    "    for n in np.logspace(np.log10(sample_size_initial), np.log10(sample_size_final))\n",
    "]\n",
    "expectedConvergence = [-np.log10(1.0 / np.sqrt(n)) for n in sampleSizeArray]"
   ]
  },
  {
   "cell_type": "code",
   "execution_count": 20,
   "id": "behavioral-prophet",
   "metadata": {},
   "outputs": [
    {
     "data": {
      "image/png": "[encoded data removed]",
      "text/plain": [
       "class=Graph name=Convergence of Monte-Carlo - problem = Ishigami implementation=class=GraphImplementation name=Convergence of Monte-Carlo - problem = Ishigami title=Convergence of Monte-Carlo - problem = Ishigami xTitle=Sample size yTitle=LRE axes=ON grid=ON legendposition=topright legendFontSize=1 drawables=[class=Drawable name=Unnamed implementation=class=Cloud name=Unnamed derived from class=DrawableImplementation name=Unnamed legend=Monte-Carlo data=class=Sample name=Unnamed implementation=class=SampleImplementation name=Unnamed size=120 dimension=2 description=[Sample size,LRE] data=[[40,0.0518364],[40,0.692994],[40,0.174915],[40,0.507747],[40,1.16493],[40,1.8908],[40,0.537043],[40,0.649269],[40,0.171399],[40,0.579834],[80,0.184538],[80,0.736766],[80,0.215712],[80,1.51044],[80,0.894404],[80,1.24807],[80,0.506059],[80,0.499387],[80,0.803889],[80,0.193048],[160,0.41575],[160,0.729757],[160,1.0813],[160,0.964102],[160,0.96739],[160,0.411712],[160,1.07067],[160,0.677454],[160,0.517989],[160,1.47481],[320,0.795926],[320,0.462794],[320,1.75279],[320,0.360654],[320,0.423851],[320,0.420939],[320,0.443507],[320,0.580271],[320,1.12461],[320,1.6602],[640,1.0645],[640,1.12221],[640,2.3005],[640,1.26454],[640,1.08294],[640,0.995218],[640,0.561136],[640,1.62958],[640,0.848507],[640,1.22918],[1280,1.18863],[1280,1.51974],[1280,1.99778],[1280,0.927788],[1280,1.03399],[1280,1.18408],[1280,1.04349],[1280,1.43983],[1280,0.511216],[1280,1.3181],[2560,1.41487],[2560,1.25179],[2560,1.58522],[2560,2.15736],[2560,2.05332],[2560,1.11643],[2560,1.76451],[2560,1.5118],[2560,1.7033],[2560,1.52142],[5120,1.36252],[5120,1.23769],[5120,1.91304],[5120,2.39946],[5120,0.934914],[5120,1.2126],[5120,1.02632],[5120,1.50079],[5120,1.19541],[5120,1.13427],[10240,2.60556],[10240,1.59708],[10240,1.8858],[10240,1.60153],[10240,1.4385],[10240,2.0829],[10240,2.09316],[10240,1.51821],[10240,1.51398],[10240,1.63467],[20480,1.25144],[20480,2.00914],[20480,3.19464],[20480,1.55727],[20480,2.31758],[20480,1.69664],[20480,2.51838],[20480,1.68016],[20480,1.57771],[20480,1.85792],[40960,2.46204],[40960,1.74355],[40960,1.38425],[40960,2.13109],[40960,1.98531],[40960,1.84574],[40960,2.06825],[40960,1.48732],[40960,2.47982],[40960,6.50403],[81920,1.7252],[81920,1.66196],[81920,2.02732],[81920,2.16527],[81920,1.4],[81920,2.76582],[81920,2.45122],[81920,1.68719],[81920,1.8311],[81920,2.34688]] color=dodgerblue3 fillStyle=solid lineStyle=solid pointStyle=fsquare lineWidth=1,class=Drawable name=Unnamed implementation=class=Curve name=Unnamed derived from class=DrawableImplementation name=Unnamed legend=$1/\\sqrt{n}$ data=class=Sample name=Unnamed implementation=class=SampleImplementation name=Unnamed size=50 dimension=2 data=[[20,0.650515],[23,0.680864],[28,0.723579],[33,0.759257],[39,0.795532],[46,0.831379],[55,0.870181],[65,0.906457],[77,0.943245],[92,0.981894],[109,1.01871],[129,1.05529],[153,1.09235],[181,1.12884],[215,1.16622],[255,1.20327],[302,1.24],[358,1.27694],[424,1.31368],[503,1.35078],[596,1.38762],[706,1.4244],[837,1.46136],[992,1.49826],[1175,1.53502],[1393,1.57198],[1651,1.60887],[1956,1.64568],[2318,1.68256],[2747,1.71943],[3255,1.75628],[3858,1.79318],[4572,1.83005],[5418,1.86692],[6420,1.90377],[7608,1.94064],[9015,1.97748],[10683,2.01435],[12660,2.05122],[15002,2.08807],[17778,2.12494],[21067,2.1618],[24965,2.19867],[29584,2.23553],[35057,2.27239],[41543,2.30925],[49229,2.34611],[58337,2.38297],[69130,2.41983],[81919,2.45669]] color=darkorange1 fillStyle=solid lineStyle=solid pointStyle=none lineWidth=1]"
      ]
     },
     "execution_count": 20,
     "metadata": {},
     "output_type": "execute_result"
    }
   ],
   "source": [
    "title = \"Convergence of Monte-Carlo - problem = %s\" % (problem.getName())\n",
    "graph = ot.Graph(title, \"Sample size\", \"LRE\", True, \"topright\")\n",
    "curve = ot.Cloud(sampleSizeLRETable, \"blue\", \"fsquare\", \"\")\n",
    "curve.setLegend(\"Monte-Carlo\")\n",
    "graph.add(curve)\n",
    "curve = ot.Curve(sampleSizeArray, expectedConvergence)\n",
    "curve.setLegend(r\"$1/\\sqrt{n}$\")\n",
    "graph.add(curve)\n",
    "graph.setColors([\"dodgerblue3\", \"darkorange1\"])\n",
    "graph.setLogScale(ot.GraphImplementation.LOGX)\n",
    "graph"
   ]
  },
  {
   "cell_type": "code",
   "execution_count": null,
   "id": "spoken-abraham",
   "metadata": {},
   "outputs": [],
   "source": []
  }
 ],
 "metadata": {
  "kernelspec": {
   "display_name": "Python 3",
   "language": "python",
   "name": "python3"
  },
  "language_info": {
   "codemirror_mode": {
    "name": "ipython",
    "version": 3
   },
   "file_extension": ".py",
   "mimetype": "text/x-python",
   "name": "python",
   "nbconvert_exporter": "python",
   "pygments_lexer": "ipython3",
   "version": "3.8.6"
  }
 },
 "nbformat": 4,
 "nbformat_minor": 5
}
